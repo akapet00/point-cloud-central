{
 "cells": [
  {
   "cell_type": "markdown",
   "id": "d4b5051c-0d19-4082-a098-3955e998d254",
   "metadata": {},
   "source": [
    "# Extraction of landscape geometry features"
   ]
  },
  {
   "cell_type": "code",
   "execution_count": null,
   "id": "441c9bfe-742c-4ca8-b068-4f7cc903ffc8",
   "metadata": {},
   "outputs": [],
   "source": [
    "import copy\n",
    "import os\n",
    "\n",
    "import matplotlib.pyplot as plt\n",
    "import numpy as np\n",
    "import open3d as o3d\n",
    "import pyvista as pv\n",
    "from scipy import spatial\n",
    "from scipy import stats\n",
    "import seaborn as sns"
   ]
  },
  {
   "cell_type": "code",
   "execution_count": null,
   "id": "e440d05f-1ed5-402c-872b-2e4222a64253",
   "metadata": {},
   "outputs": [],
   "source": [
    "sns.set()"
   ]
  },
  {
   "cell_type": "markdown",
   "id": "5ede0138-90ec-4974-863e-c6072d3271a1",
   "metadata": {},
   "source": [
    "## Load the original data\n",
    "\n",
    "Obtained from F. Poux's [video tutorial](https://www.youtube.com/watch?v=WKSJcG97gE4) on 3D point cloud feature extraction, available on [Google Drive](https://drive.google.com/drive/folders/1fwhE5OphpeW4RR0RY8W2jbqmlf5LH6dX)."
   ]
  },
  {
   "cell_type": "code",
   "execution_count": null,
   "id": "223384dd-ae53-42ff-b175-f44b8c54f1a2",
   "metadata": {},
   "outputs": [],
   "source": [
    "pcd_pv = pv.read(os.path.join('data', 'MLS_UTWENTE_super_sample.ply'))\n",
    "pcd_pv['elevation'] = pcd_pv.points[:, 2]\n",
    "pv.plot(pcd_pv,\n",
    "        scalars='elevation',\n",
    "        render_points_as_spheres=True,\n",
    "        point_size=2,\n",
    "        show_scalar_bar=False)"
   ]
  },
  {
   "cell_type": "markdown",
   "id": "313cfd34-2b22-425b-9674-917e35cae9b6",
   "metadata": {},
   "source": [
    "## Create the point cloud"
   ]
  },
  {
   "cell_type": "code",
   "execution_count": null,
   "id": "0ca49d46-f380-4f04-984c-32343b6a1ef0",
   "metadata": {},
   "outputs": [],
   "source": [
    "points = np.asarray(pcd_pv.points)\n",
    "points[:, 2] -= points[:, 2].min()  # set min elevation to 0\n",
    "norm = plt.Normalize()\n",
    "elev = plt.cm.viridis(norm(points[:, 2]))[:, :-1]  # add color\n",
    "pcd_o3d = o3d.geometry.PointCloud()\n",
    "pcd_o3d.points = o3d.utility.Vector3dVector(points)\n",
    "pcd_o3d.colors = o3d.utility.Vector3dVector(elev)"
   ]
  },
  {
   "cell_type": "code",
   "execution_count": null,
   "id": "03fc289e-ac79-46f0-abf9-37b9dac98494",
   "metadata": {},
   "outputs": [],
   "source": [
    "o3d.visualization.draw_geometries([pcd_o3d])"
   ]
  },
  {
   "cell_type": "markdown",
   "id": "5df85f27-3ce9-43a1-a454-d0c96300d481",
   "metadata": {},
   "source": [
    "## Exploring the unstructured data with an octree"
   ]
  },
  {
   "cell_type": "code",
   "execution_count": null,
   "id": "6d29ebd8-1cb2-4b0e-85fa-00af2793682c",
   "metadata": {},
   "outputs": [],
   "source": [
    "curr_max_depth = 7\n",
    "octree = o3d.geometry.Octree(max_depth=curr_max_depth)\n",
    "octree.convert_from_point_cloud(pcd_o3d, size_expand=0.01)"
   ]
  },
  {
   "cell_type": "code",
   "execution_count": null,
   "id": "ddddd88f-0616-4f23-a7ca-5bd194c84a4c",
   "metadata": {},
   "outputs": [],
   "source": [
    "o3d.visualization.draw_geometries([octree])"
   ]
  },
  {
   "cell_type": "markdown",
   "id": "7a2daae0-0099-45fd-9158-5200340813fd",
   "metadata": {},
   "source": [
    "## Downsampling the point cloud using a voxel grid"
   ]
  },
  {
   "cell_type": "code",
   "execution_count": null,
   "id": "a036f6ac-64a7-4565-88eb-f38583e0bf41",
   "metadata": {},
   "outputs": [],
   "source": [
    "pcd_ds = pcd_o3d.voxel_down_sample(voxel_size=0.8)  # cca. 10x downsample"
   ]
  },
  {
   "cell_type": "code",
   "execution_count": null,
   "id": "32f14c40-44f0-418c-af8f-fc731ca3a872",
   "metadata": {},
   "outputs": [],
   "source": [
    "o3d.visualization.draw_geometries([pcd_ds])"
   ]
  },
  {
   "cell_type": "markdown",
   "id": "2e91adfa-29b5-4c9c-a804-747d274f5a02",
   "metadata": {},
   "source": [
    "## Performing outlier removal"
   ]
  },
  {
   "cell_type": "code",
   "execution_count": null,
   "id": "6cf5cf11-6a5e-48da-a841-7d0fbcb01a76",
   "metadata": {},
   "outputs": [],
   "source": [
    "def display_inlier_outlier(cloud, ind):\n",
    "    if not isinstance(cloud, o3d.geometry.PointCloud):\n",
    "        points = cloud\n",
    "        cloud = o3d.geometry.PointCloud()\n",
    "        cloud.points = o3d.utility.Vector3dVector(np.asarray(points))\n",
    "    inlier_cloud = cloud.select_by_index(ind)\n",
    "    outlier_cloud = cloud.select_by_index(ind, invert=True)\n",
    "    outlier_cloud.paint_uniform_color([1, 0, 0])\n",
    "    inlier_cloud.paint_uniform_color([0.8, 0.8, 0.8])\n",
    "    o3d.visualization.draw_geometries([inlier_cloud, outlier_cloud])"
   ]
  },
  {
   "cell_type": "code",
   "execution_count": null,
   "id": "04a12c27-a60d-41c9-bac4-75e24010a5b7",
   "metadata": {},
   "outputs": [],
   "source": [
    "pcd_stat, ind = pcd_ds.remove_statistical_outlier(nb_neighbors=30,\n",
    "                                                  std_ratio=3)"
   ]
  },
  {
   "cell_type": "code",
   "execution_count": null,
   "id": "17b4e203-4341-4d2a-ba54-03c4add43c4c",
   "metadata": {},
   "outputs": [],
   "source": [
    "display_inlier_outlier(pcd_ds, ind)"
   ]
  },
  {
   "cell_type": "code",
   "execution_count": null,
   "id": "4b34ede2-8e61-4c87-82c7-d40db2a01220",
   "metadata": {},
   "outputs": [],
   "source": [
    "pcd_rad, ind = pcd_ds.remove_radius_outlier(nb_points=25, radius=5)"
   ]
  },
  {
   "cell_type": "code",
   "execution_count": null,
   "id": "56f66fa9-9b18-4b3e-ac28-0a636de80cca",
   "metadata": {},
   "outputs": [],
   "source": [
    "display_inlier_outlier(pcd_ds, ind)"
   ]
  },
  {
   "cell_type": "code",
   "execution_count": null,
   "id": "53450b4f-6e98-4b60-81df-e2e69e4670cb",
   "metadata": {},
   "outputs": [],
   "source": [
    "o3d.visualization.draw_geometries([pcd_rad])"
   ]
  },
  {
   "cell_type": "markdown",
   "id": "12aaf4f0-f520-4432-b854-bcbd2e27a583",
   "metadata": {},
   "source": [
    "## Extracting geometric features"
   ]
  },
  {
   "cell_type": "code",
   "execution_count": null,
   "id": "0c0ed759-3070-4cb8-8eca-e2ac5b8f2645",
   "metadata": {},
   "outputs": [],
   "source": [
    "X = np.asarray(pcd_rad.points)"
   ]
  },
  {
   "cell_type": "markdown",
   "id": "e5c6538b-2204-42de-8c36-9f514f704009",
   "metadata": {},
   "source": [
    "### 3D"
   ]
  },
  {
   "cell_type": "code",
   "execution_count": null,
   "id": "26c2f08c-919e-4b5f-9da2-a8a41ebff47b",
   "metadata": {},
   "outputs": [],
   "source": [
    "def pca(X):\n",
    "    X_norm = X - np.mean(X, axis=0)\n",
    "    cov = np.cov(X_norm, rowvar=False)\n",
    "    eval, evec = np.linalg.eig(cov)\n",
    "    mask = np.argsort(eval)[::-1]\n",
    "    return eval[mask], evec[mask]"
   ]
  },
  {
   "cell_type": "code",
   "execution_count": null,
   "id": "9da4767e-8cca-4321-9edf-8e0370fda07e",
   "metadata": {},
   "outputs": [],
   "source": [
    "def extract_features(eval, evec):\n",
    "    # https://doi.org/10.5194/isprsannals-II-5-W2-313-2013\n",
    "    planarity = (eval[1] - eval[2]) / eval[0]\n",
    "    linearity = (eval[0] - eval[1]) / eval[0]\n",
    "    omnivariance = (eval[0] * eval[1] * eval[2]) ** (1 / 3)\n",
    "    _, _, normal = evec\n",
    "    verticality = 1 - normal[2]\n",
    "    return (planarity, linearity, omnivariance, verticality,\n",
    "            normal[0], normal[1], normal[2])"
   ]
  },
  {
   "cell_type": "code",
   "execution_count": null,
   "id": "32d017fe-77a7-488d-b235-aa6704fa654c",
   "metadata": {},
   "outputs": [],
   "source": [
    "tree = spatial.KDTree(X)\n",
    "dist, ind = tree.query(X, k=25)\n",
    "nbhd = X[ind]"
   ]
  },
  {
   "cell_type": "code",
   "execution_count": null,
   "id": "e0a34cbd-483f-41de-aa53-b68dc3b0a662",
   "metadata": {},
   "outputs": [],
   "source": [
    "# example for a single point\n",
    "sel = 0\n",
    "eval, evec = pca(nbhd[sel])\n",
    "p, l, o, v, nx, ny, nz = extract_features(eval, evec)"
   ]
  },
  {
   "cell_type": "code",
   "execution_count": null,
   "id": "526d1823-97ac-44bc-a614-a23e3ecbf40a",
   "metadata": {},
   "outputs": [],
   "source": [
    "p, l, o, v, nx, ny, nz"
   ]
  },
  {
   "cell_type": "code",
   "execution_count": null,
   "id": "409174ff-9267-482a-9f52-3537d789d868",
   "metadata": {},
   "outputs": [],
   "source": [
    "# surface normals\n",
    "n = np.empty_like(X)\n",
    "for i in range(X.shape[0]):\n",
    "    eval, evec = pca(nbhd[i, ...])\n",
    "    _, _, _, _, nx, ny, nz = extract_features(eval, evec)\n",
    "    n[i, :] = [nx, ny, nz]\n",
    "pcd_rad.normals = o3d.utility.Vector3dVector(n)\n",
    "pcd_rad.orient_normals_consistent_tangent_plane(20)"
   ]
  },
  {
   "cell_type": "code",
   "execution_count": null,
   "id": "00ba1ca1-cb2c-4b5f-b3ff-8c4ad438e71d",
   "metadata": {},
   "outputs": [],
   "source": [
    "o3d.visualization.draw_geometries([pcd_rad], point_show_normal=True)"
   ]
  },
  {
   "cell_type": "markdown",
   "id": "cf8a4d36-e8f4-4069-916d-116ec9791bd5",
   "metadata": {},
   "source": [
    "### 2D"
   ]
  },
  {
   "cell_type": "code",
   "execution_count": null,
   "id": "21d0eb4d-0666-4919-89d4-eb85cfef7dbd",
   "metadata": {},
   "outputs": [],
   "source": [
    "def display_selection(cloud, ind):\n",
    "    if not isinstance(cloud, o3d.geometry.PointCloud):\n",
    "        points = cloud\n",
    "        cloud = o3d.geometry.PointCloud()\n",
    "        cloud.points = o3d.utility.Vector3dVector(np.asarray(points))\n",
    "    selected = cloud.select_by_index(ind)\n",
    "    unselected = cloud.select_by_index(ind, invert=True)\n",
    "    selected.paint_uniform_color([1, 0, 0])\n",
    "    unselected.paint_uniform_color([0.8, 0.8, 0.8])\n",
    "    o3d.visualization.draw_geometries([selected, unselected])"
   ]
  },
  {
   "cell_type": "code",
   "execution_count": null,
   "id": "0e4f18ca-478f-4dd9-9574-eade1ca2e17b",
   "metadata": {},
   "outputs": [],
   "source": [
    "tree_2d = spatial.KDTree(X[:, :2])\n",
    "ind_2d = tree_2d.query_ball_point(X[:, :2], 4)"
   ]
  },
  {
   "cell_type": "code",
   "execution_count": null,
   "id": "1afa409b-d492-4f7a-9ff9-1656d8330c31",
   "metadata": {},
   "outputs": [],
   "source": [
    "# example for a single selection\n",
    "sel = 0\n",
    "X_sel = X[ind_2d[sel]]"
   ]
  },
  {
   "cell_type": "code",
   "execution_count": null,
   "id": "833330ea-d9ce-4926-99d6-097dc9e5d8d9",
   "metadata": {},
   "outputs": [],
   "source": [
    "display_selection(X, ind_2d[sel])"
   ]
  },
  {
   "cell_type": "code",
   "execution_count": null,
   "id": "003908c9-3fff-4649-a124-73f13863f6cf",
   "metadata": {},
   "outputs": [],
   "source": [
    "# create a distribution of elevations of the scenary\n",
    "elevs = []\n",
    "for i in range(X.shape[0]):\n",
    "    X_sel = X[ind_2d[i]]\n",
    "    elevs.append(X_sel[:, 2].ptp())"
   ]
  },
  {
   "cell_type": "code",
   "execution_count": null,
   "id": "c3a54496-0fa8-4b79-b40a-8d7af279a31c",
   "metadata": {},
   "outputs": [],
   "source": [
    "kernel = stats.gaussian_kde(elevs)"
   ]
  },
  {
   "cell_type": "code",
   "execution_count": null,
   "id": "58ed9e56-a66f-4395-85c7-453ee50b32cf",
   "metadata": {},
   "outputs": [],
   "source": [
    "fig, ax = plt.subplots()\n",
    "y, bins, patches = ax.hist(elevs,\n",
    "                           bins='fd',\n",
    "                           density=True,\n",
    "                           cumulative=False,\n",
    "                           histtype='bar',\n",
    "                           align='mid',\n",
    "                           orientation='vertical',\n",
    "                           label='measured data')\n",
    "ax.plot(bins, kernel(bins), label='kernel density estimate')\n",
    "ax.set(xlabel='elevation (m)', ylabel='probability density')\n",
    "ax.legend();"
   ]
  },
  {
   "cell_type": "code",
   "execution_count": null,
   "id": "10475ff4-0641-4d8e-9a2a-aec3110bb48b",
   "metadata": {},
   "outputs": [],
   "source": [
    "kernel.integrate_box_1d(min(elevs), max(elevs))"
   ]
  },
  {
   "cell_type": "code",
   "execution_count": null,
   "id": "53cd9b8c-c6b8-43fb-807d-8c23a9847224",
   "metadata": {},
   "outputs": [],
   "source": [
    "kernel.covariance"
   ]
  },
  {
   "cell_type": "code",
   "execution_count": null,
   "id": "1f3eda05-a11e-48d0-bdd3-8c2f7cfc5983",
   "metadata": {},
   "outputs": [],
   "source": [
    "kernel.covariance_factor()"
   ]
  },
  {
   "cell_type": "markdown",
   "id": "faadf35c-7884-4104-9988-659af5a9d5e9",
   "metadata": {},
   "source": [
    "## Performing a simple semantic segmentation of the flat terrain"
   ]
  },
  {
   "cell_type": "code",
   "execution_count": null,
   "id": "e7e5ad1d-9844-497c-a209-88b9a6420a19",
   "metadata": {},
   "outputs": [],
   "source": [
    "models = {}\n",
    "segments = {}\n",
    "n_planes = 1"
   ]
  },
  {
   "cell_type": "code",
   "execution_count": null,
   "id": "977c1f2a-30fb-4db2-b235-e9f47bdd353a",
   "metadata": {},
   "outputs": [],
   "source": [
    "pcd_rest = copy.deepcopy(pcd_rad)\n",
    "pcd_rest.paint_uniform_color([0.8, 0.8, 0.8])\n",
    "colors = sns.color_palette(n_colors=n_planes+1)"
   ]
  },
  {
   "cell_type": "code",
   "execution_count": null,
   "id": "5add93fd-4f01-481a-9ed6-a3704d2c5150",
   "metadata": {},
   "outputs": [],
   "source": [
    "for i in range(n_planes):\n",
    "    models[i], ind = pcd_rest.segment_plane(distance_threshold=0.5,\n",
    "                                            ransac_n=3,\n",
    "                                            num_iterations=1000)\n",
    "    segments[i] = pcd_rest.select_by_index(ind)\n",
    "    segments[i].paint_uniform_color(colors[i])\n",
    "    pcd_rest = pcd_rest.select_by_index(ind, invert=True)\n",
    "pcd_rest.paint_uniform_color(colors[-1]);"
   ]
  },
  {
   "cell_type": "code",
   "execution_count": null,
   "id": "a6e79a1d-c5c1-4b65-9f94-539e26f2174f",
   "metadata": {},
   "outputs": [],
   "source": [
    "o3d.visualization.draw_geometries(list(segments.values()) + [pcd_rest])"
   ]
  },
  {
   "cell_type": "code",
   "execution_count": null,
   "id": "8941447b-cff0-465b-bceb-520f69ed7fe8",
   "metadata": {},
   "outputs": [],
   "source": [
    "a, b, c, d = models[0]\n",
    "print(f'implicit eqn. {a:.2e} x + {b:.2e} y + {c:.2e} z + {d:.2e} = 0')"
   ]
  },
  {
   "cell_type": "code",
   "execution_count": null,
   "id": "3009323c-0694-4fdc-8ec5-bae1e730ec7f",
   "metadata": {},
   "outputs": [],
   "source": [
    "obb = segments[0].get_oriented_bounding_box()\n",
    "obb.color = colors[-1]"
   ]
  },
  {
   "cell_type": "code",
   "execution_count": null,
   "id": "3a7e329e-e67b-46ef-a268-7fdaf43c86dd",
   "metadata": {},
   "outputs": [],
   "source": [
    "# after manaully cleaning the plane point cloud, it is easy to estimate\n",
    "# its approximate surface area e.g. in Meshlab\n",
    "o3d.visualization.draw_geometries(list(segments.values()) + [obb])"
   ]
  },
  {
   "cell_type": "code",
   "execution_count": null,
   "id": "995b34b2-acac-4840-ab93-3552d8058ee4",
   "metadata": {},
   "outputs": [],
   "source": []
  }
 ],
 "metadata": {
  "kernelspec": {
   "display_name": "Python 3 (ipykernel)",
   "language": "python",
   "name": "python3"
  },
  "language_info": {
   "codemirror_mode": {
    "name": "ipython",
    "version": 3
   },
   "file_extension": ".py",
   "mimetype": "text/x-python",
   "name": "python",
   "nbconvert_exporter": "python",
   "pygments_lexer": "ipython3",
   "version": "3.9.18"
  }
 },
 "nbformat": 4,
 "nbformat_minor": 5
}
