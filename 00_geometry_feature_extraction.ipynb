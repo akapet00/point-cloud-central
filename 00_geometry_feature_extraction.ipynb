{
 "cells": [
  {
   "cell_type": "markdown",
   "id": "d4b5051c-0d19-4082-a098-3955e998d254",
   "metadata": {},
   "source": [
    "# Extraction of landscape geometry features"
   ]
  },
  {
   "cell_type": "code",
   "execution_count": null,
   "id": "441c9bfe-742c-4ca8-b068-4f7cc903ffc8",
   "metadata": {},
   "outputs": [],
   "source": [
    "import copy\n",
    "import os\n",
    "\n",
    "import matplotlib.pyplot as plt\n",
    "import numpy as np\n",
    "import open3d as o3d\n",
    "from scipy import spatial\n",
    "from scipy import stats\n",
    "import seaborn as sns"
   ]
  },
  {
   "cell_type": "code",
   "execution_count": null,
   "id": "e440d05f-1ed5-402c-872b-2e4222a64253",
   "metadata": {},
   "outputs": [],
   "source": [
    "sns.set()"
   ]
  },
  {
   "cell_type": "markdown",
   "id": "5ede0138-90ec-4974-863e-c6072d3271a1",
   "metadata": {},
   "source": [
    "## Load the original data\n",
    "\n",
    "Obtained from F. Poux's [video tutorial](https://www.youtube.com/watch?v=WKSJcG97gE4) on 3D point cloud feature extraction, available on [Google Drive](https://drive.google.com/drive/folders/1fwhE5OphpeW4RR0RY8W2jbqmlf5LH6dX)."
   ]
  },
  {
   "cell_type": "code",
   "execution_count": null,
   "id": "652d07e5-34e7-422e-8c86-390e611df258",
   "metadata": {},
   "outputs": [],
   "source": [
    "fname = os.path.join('data', 'UTWENTE', 'MLS_UTWENTE_super_sample.ply')\n",
    "pcd = o3d.io.read_point_cloud(fname)"
   ]
  },
  {
   "cell_type": "code",
   "execution_count": null,
   "id": "c120f4d4-cf60-46e7-89e1-7b5a248cd135",
   "metadata": {},
   "outputs": [],
   "source": [
    "o3d.visualization.draw_geometries([pcd])"
   ]
  },
  {
   "cell_type": "markdown",
   "id": "313cfd34-2b22-425b-9674-917e35cae9b6",
   "metadata": {},
   "source": [
    "## Preprocessing"
   ]
  },
  {
   "cell_type": "code",
   "execution_count": null,
   "id": "cbdc78aa-da3e-45eb-a668-13bfb6f8b3e0",
   "metadata": {},
   "outputs": [],
   "source": [
    "# translation\n",
    "zmin = pcd.get_min_bound()[2]\n",
    "trans = np.array([0, 0, -zmin])\n",
    "pcd = pcd.translate(trans)"
   ]
  },
  {
   "cell_type": "code",
   "execution_count": null,
   "id": "769bfd70-2a65-42ba-a648-922198133619",
   "metadata": {},
   "outputs": [],
   "source": [
    "# colorization with regards to elevation\n",
    "points = np.asarray(pcd.points)\n",
    "elev = points[:, 2]\n",
    "cmap = sns.color_palette(palette='viridis', as_cmap=True)\n",
    "norm = plt.Normalize()\n",
    "color = cmap(norm(elev))[:, :-1]\n",
    "pcd.colors = o3d.utility.Vector3dVector(color)"
   ]
  },
  {
   "cell_type": "code",
   "execution_count": null,
   "id": "1642aa60-b167-46e7-8895-a9de12d6a67f",
   "metadata": {},
   "outputs": [],
   "source": [
    "o3d.visualization.draw_geometries([pcd])"
   ]
  },
  {
   "cell_type": "markdown",
   "id": "5df85f27-3ce9-43a1-a454-d0c96300d481",
   "metadata": {},
   "source": [
    "## Exploring the unstructured data with an octree"
   ]
  },
  {
   "cell_type": "code",
   "execution_count": null,
   "id": "6d29ebd8-1cb2-4b0e-85fa-00af2793682c",
   "metadata": {},
   "outputs": [],
   "source": [
    "octree = o3d.geometry.Octree(max_depth=7)\n",
    "octree.convert_from_point_cloud(pcd, size_expand=0.01)"
   ]
  },
  {
   "cell_type": "code",
   "execution_count": null,
   "id": "ddddd88f-0616-4f23-a7ca-5bd194c84a4c",
   "metadata": {},
   "outputs": [],
   "source": [
    "o3d.visualization.draw_geometries([octree])"
   ]
  },
  {
   "cell_type": "markdown",
   "id": "7a2daae0-0099-45fd-9158-5200340813fd",
   "metadata": {},
   "source": [
    "## Downsampling the point cloud using a voxel grid"
   ]
  },
  {
   "cell_type": "code",
   "execution_count": null,
   "id": "a036f6ac-64a7-4565-88eb-f38583e0bf41",
   "metadata": {},
   "outputs": [],
   "source": [
    "pcd_ds = pcd.voxel_down_sample(voxel_size=0.8)  # cca. 10x downsample"
   ]
  },
  {
   "cell_type": "code",
   "execution_count": null,
   "id": "32f14c40-44f0-418c-af8f-fc731ca3a872",
   "metadata": {},
   "outputs": [],
   "source": [
    "o3d.visualization.draw_geometries([pcd_ds])"
   ]
  },
  {
   "cell_type": "markdown",
   "id": "2e91adfa-29b5-4c9c-a804-747d274f5a02",
   "metadata": {},
   "source": [
    "## Removing outliers"
   ]
  },
  {
   "cell_type": "code",
   "execution_count": null,
   "id": "6cf5cf11-6a5e-48da-a841-7d0fbcb01a76",
   "metadata": {},
   "outputs": [],
   "source": [
    "def display_inlier_outlier(cloud, ind):\n",
    "    if not isinstance(cloud, o3d.geometry.PointCloud):\n",
    "        points = cloud\n",
    "        cloud = o3d.geometry.PointCloud()\n",
    "        cloud.points = o3d.utility.Vector3dVector(np.asarray(points))\n",
    "    inlier = cloud.select_by_index(ind)\n",
    "    outlier = cloud.select_by_index(ind, invert=True)\n",
    "    outlier.paint_uniform_color([1, 0, 0])\n",
    "    inlier.paint_uniform_color([0.8, 0.8, 0.8])\n",
    "    o3d.visualization.draw_geometries([inlier, outlier])"
   ]
  },
  {
   "cell_type": "code",
   "execution_count": null,
   "id": "04a12c27-a60d-41c9-bac4-75e24010a5b7",
   "metadata": {},
   "outputs": [],
   "source": [
    "pcd_stat, ind = pcd_ds.remove_statistical_outlier(nb_neighbors=30,\n",
    "                                                  std_ratio=3)"
   ]
  },
  {
   "cell_type": "code",
   "execution_count": null,
   "id": "17b4e203-4341-4d2a-ba54-03c4add43c4c",
   "metadata": {},
   "outputs": [],
   "source": [
    "display_inlier_outlier(pcd_ds, ind)"
   ]
  },
  {
   "cell_type": "code",
   "execution_count": null,
   "id": "4b34ede2-8e61-4c87-82c7-d40db2a01220",
   "metadata": {},
   "outputs": [],
   "source": [
    "pcd_rad, ind = pcd_ds.remove_radius_outlier(nb_points=25, radius=5)"
   ]
  },
  {
   "cell_type": "code",
   "execution_count": null,
   "id": "56f66fa9-9b18-4b3e-ac28-0a636de80cca",
   "metadata": {},
   "outputs": [],
   "source": [
    "display_inlier_outlier(pcd_ds, ind)"
   ]
  },
  {
   "cell_type": "code",
   "execution_count": null,
   "id": "53450b4f-6e98-4b60-81df-e2e69e4670cb",
   "metadata": {},
   "outputs": [],
   "source": [
    "o3d.visualization.draw_geometries([pcd_rad])"
   ]
  },
  {
   "cell_type": "markdown",
   "id": "f7b9134a-8cc8-4f59-a075-7a4361de7c70",
   "metadata": {},
   "source": [
    "## Final cleaning touches on the point cloud"
   ]
  },
  {
   "cell_type": "code",
   "execution_count": null,
   "id": "6cbeea71-515b-41c0-b248-370e619ad53b",
   "metadata": {
    "scrolled": true
   },
   "outputs": [],
   "source": [
    "# https://www.open3d.org/html/tutorial/Advanced/interactive_visualization.html\n",
    "# o3d.visualization.draw_geometries_with_editing([pcd_rad])"
   ]
  },
  {
   "cell_type": "code",
   "execution_count": null,
   "id": "8a7cf498-1cb1-4b8a-a127-edfa2ecc8972",
   "metadata": {},
   "outputs": [],
   "source": [
    "fname = os.path.join('data', 'UTWENTE', 'MLS_UTWENTE_super_sample_crop.ply')\n",
    "pcd_crop = o3d.io.read_point_cloud(fname)"
   ]
  },
  {
   "cell_type": "code",
   "execution_count": null,
   "id": "8603c664-7706-4b2c-86ea-760bb1dd1491",
   "metadata": {},
   "outputs": [],
   "source": [
    "o3d.visualization.draw_geometries([pcd_crop])"
   ]
  },
  {
   "cell_type": "markdown",
   "id": "12aaf4f0-f520-4432-b854-bcbd2e27a583",
   "metadata": {},
   "source": [
    "## Extracting geometric features"
   ]
  },
  {
   "cell_type": "code",
   "execution_count": null,
   "id": "0c0ed759-3070-4cb8-8eca-e2ac5b8f2645",
   "metadata": {},
   "outputs": [],
   "source": [
    "X = np.asarray(pcd_crop.points)"
   ]
  },
  {
   "cell_type": "markdown",
   "id": "e5c6538b-2204-42de-8c36-9f514f704009",
   "metadata": {},
   "source": [
    "### In 3D"
   ]
  },
  {
   "cell_type": "code",
   "execution_count": null,
   "id": "26c2f08c-919e-4b5f-9da2-a8a41ebff47b",
   "metadata": {},
   "outputs": [],
   "source": [
    "def pca(X):\n",
    "    X_norm = X - np.mean(X, axis=0)\n",
    "    cov = np.cov(X_norm, rowvar=False)\n",
    "    eval, evec = np.linalg.eig(cov)\n",
    "    mask = np.argsort(eval)[::-1]\n",
    "    return eval[mask], evec[mask]"
   ]
  },
  {
   "cell_type": "code",
   "execution_count": null,
   "id": "9da4767e-8cca-4321-9edf-8e0370fda07e",
   "metadata": {},
   "outputs": [],
   "source": [
    "def extract_features(eval, evec):\n",
    "    # https://doi.org/10.5194/isprsannals-II-5-W2-313-2013\n",
    "    planarity = (eval[1] - eval[2]) / eval[0]\n",
    "    linearity = (eval[0] - eval[1]) / eval[0]\n",
    "    omnivariance = (eval[0] * eval[1] * eval[2]) ** (1 / 3)\n",
    "    _, _, normal = evec\n",
    "    verticality = 1 - normal[2]\n",
    "    return (planarity, linearity, omnivariance, verticality,\n",
    "            normal[0], normal[1], normal[2])"
   ]
  },
  {
   "cell_type": "code",
   "execution_count": null,
   "id": "32d017fe-77a7-488d-b235-aa6704fa654c",
   "metadata": {},
   "outputs": [],
   "source": [
    "tree = spatial.KDTree(X)\n",
    "dist, ind = tree.query(X, k=25)\n",
    "nbhd = X[ind]"
   ]
  },
  {
   "cell_type": "code",
   "execution_count": null,
   "id": "e0a34cbd-483f-41de-aa53-b68dc3b0a662",
   "metadata": {},
   "outputs": [],
   "source": [
    "# example for a single point\n",
    "sel = 0\n",
    "eval, evec = pca(nbhd[sel])\n",
    "p, l, o, v, nx, ny, nz = extract_features(eval, evec)"
   ]
  },
  {
   "cell_type": "code",
   "execution_count": null,
   "id": "526d1823-97ac-44bc-a614-a23e3ecbf40a",
   "metadata": {},
   "outputs": [],
   "source": [
    "p, l, o, v, nx, ny, nz"
   ]
  },
  {
   "cell_type": "code",
   "execution_count": null,
   "id": "409174ff-9267-482a-9f52-3537d789d868",
   "metadata": {},
   "outputs": [],
   "source": [
    "# surface normals\n",
    "n = np.empty_like(X)\n",
    "for i in range(X.shape[0]):\n",
    "    eval, evec = pca(nbhd[i, ...])\n",
    "    _, _, _, _, nx, ny, nz = extract_features(eval, evec)\n",
    "    n[i, :] = [nx, ny, nz]\n",
    "pcd_crop.normals = o3d.utility.Vector3dVector(n)\n",
    "pcd_crop.orient_normals_consistent_tangent_plane(20)"
   ]
  },
  {
   "cell_type": "code",
   "execution_count": null,
   "id": "00ba1ca1-cb2c-4b5f-b3ff-8c4ad438e71d",
   "metadata": {},
   "outputs": [],
   "source": [
    "o3d.visualization.draw_geometries([pcd_crop], point_show_normal=True)"
   ]
  },
  {
   "cell_type": "markdown",
   "id": "cf8a4d36-e8f4-4069-916d-116ec9791bd5",
   "metadata": {},
   "source": [
    "### 2D"
   ]
  },
  {
   "cell_type": "code",
   "execution_count": null,
   "id": "21d0eb4d-0666-4919-89d4-eb85cfef7dbd",
   "metadata": {},
   "outputs": [],
   "source": [
    "def display_selection(cloud, ind):\n",
    "    if not isinstance(cloud, o3d.geometry.PointCloud):\n",
    "        points = cloud\n",
    "        cloud = o3d.geometry.PointCloud()\n",
    "        cloud.points = o3d.utility.Vector3dVector(np.asarray(points))\n",
    "    selected = cloud.select_by_index(ind)\n",
    "    unselected = cloud.select_by_index(ind, invert=True)\n",
    "    selected.paint_uniform_color([1, 0, 0])\n",
    "    unselected.paint_uniform_color([0.8, 0.8, 0.8])\n",
    "    o3d.visualization.draw_geometries([selected, unselected])"
   ]
  },
  {
   "cell_type": "code",
   "execution_count": null,
   "id": "0e4f18ca-478f-4dd9-9574-eade1ca2e17b",
   "metadata": {},
   "outputs": [],
   "source": [
    "tree_2d = spatial.KDTree(X[:, :2])\n",
    "ind_2d = tree_2d.query_ball_point(X[:, :2], 4)"
   ]
  },
  {
   "cell_type": "code",
   "execution_count": null,
   "id": "1afa409b-d492-4f7a-9ff9-1656d8330c31",
   "metadata": {},
   "outputs": [],
   "source": [
    "# example for a single selection\n",
    "sel = 0\n",
    "X_sel = X[ind_2d[sel]]"
   ]
  },
  {
   "cell_type": "code",
   "execution_count": null,
   "id": "833330ea-d9ce-4926-99d6-097dc9e5d8d9",
   "metadata": {},
   "outputs": [],
   "source": [
    "display_selection(X, ind_2d[sel])"
   ]
  },
  {
   "cell_type": "code",
   "execution_count": null,
   "id": "003908c9-3fff-4649-a124-73f13863f6cf",
   "metadata": {},
   "outputs": [],
   "source": [
    "# create a distribution of elevations of the scenary\n",
    "elevs = []\n",
    "for i in range(X.shape[0]):\n",
    "    X_sel = X[ind_2d[i]]\n",
    "    elevs.append(X_sel[:, 2].ptp())"
   ]
  },
  {
   "cell_type": "code",
   "execution_count": null,
   "id": "c3a54496-0fa8-4b79-b40a-8d7af279a31c",
   "metadata": {},
   "outputs": [],
   "source": [
    "kernel = stats.gaussian_kde(elevs)"
   ]
  },
  {
   "cell_type": "code",
   "execution_count": null,
   "id": "58ed9e56-a66f-4395-85c7-453ee50b32cf",
   "metadata": {},
   "outputs": [],
   "source": [
    "fig, ax = plt.subplots()\n",
    "y, bins, patches = ax.hist(elevs,\n",
    "                           bins='fd',\n",
    "                           density=True,\n",
    "                           cumulative=False,\n",
    "                           histtype='bar',\n",
    "                           align='mid',\n",
    "                           orientation='vertical',\n",
    "                           label='measured data')\n",
    "ax.plot(bins, kernel(bins), label='kernel density estimate')\n",
    "ax.set(xlabel='elevation (m)', ylabel='density')\n",
    "ax.legend();"
   ]
  },
  {
   "cell_type": "code",
   "execution_count": null,
   "id": "10475ff4-0641-4d8e-9a2a-aec3110bb48b",
   "metadata": {},
   "outputs": [],
   "source": [
    "kernel.integrate_box_1d(min(elevs), max(elevs))"
   ]
  },
  {
   "cell_type": "code",
   "execution_count": null,
   "id": "4f9fe105-b350-4bfd-8b39-bdd9eddc6d1d",
   "metadata": {},
   "outputs": [],
   "source": [
    "kernel.integrate_box_1d(10, 15)"
   ]
  },
  {
   "cell_type": "code",
   "execution_count": null,
   "id": "53cd9b8c-c6b8-43fb-807d-8c23a9847224",
   "metadata": {},
   "outputs": [],
   "source": [
    "kernel.covariance"
   ]
  },
  {
   "cell_type": "code",
   "execution_count": null,
   "id": "1f3eda05-a11e-48d0-bdd3-8c2f7cfc5983",
   "metadata": {},
   "outputs": [],
   "source": [
    "kernel.covariance_factor()"
   ]
  },
  {
   "cell_type": "markdown",
   "id": "faadf35c-7884-4104-9988-659af5a9d5e9",
   "metadata": {},
   "source": [
    "## Extracting the flat terrain"
   ]
  },
  {
   "cell_type": "code",
   "execution_count": null,
   "id": "a8d9a869-6de6-4942-ba72-d8e7f283fb61",
   "metadata": {},
   "outputs": [],
   "source": [
    "def display_plane(cloud, ind):\n",
    "    if not isinstance(cloud, o3d.geometry.PointCloud):\n",
    "        points = cloud\n",
    "        cloud = o3d.geometry.PointCloud()\n",
    "        cloud.points = o3d.utility.Vector3dVector(np.asarray(points))\n",
    "    planar = cloud.select_by_index(ind)\n",
    "    nonplanar = cloud.select_by_index(ind, invert=True)\n",
    "    planar.paint_uniform_color([1, 0, 0])\n",
    "    nonplanar.paint_uniform_color([0.8, 0.8, 0.8])\n",
    "    o3d.visualization.draw_geometries([planar, nonplanar])"
   ]
  },
  {
   "cell_type": "code",
   "execution_count": null,
   "id": "8c3ece24-d76a-4372-b412-6e568ee04f48",
   "metadata": {},
   "outputs": [],
   "source": [
    "o3d.utility.random.seed(42)"
   ]
  },
  {
   "cell_type": "code",
   "execution_count": null,
   "id": "5add93fd-4f01-481a-9ed6-a3704d2c5150",
   "metadata": {},
   "outputs": [],
   "source": [
    "plane_model, ind = pcd_crop.segment_plane(distance_threshold=0.5,\n",
    "                                          ransac_n=3,\n",
    "                                          num_iterations=1000)"
   ]
  },
  {
   "cell_type": "code",
   "execution_count": null,
   "id": "a37d04f8-9416-4d34-b8ac-02cda4792086",
   "metadata": {},
   "outputs": [],
   "source": [
    "a, b, c, d = plane_model\n",
    "print(f'implicit eqn. ({a:.2e}) x + ({b:.2e}) y + ({c:.2e}) z + ({d:.2e}) = 0')"
   ]
  },
  {
   "cell_type": "code",
   "execution_count": null,
   "id": "a6e79a1d-c5c1-4b65-9f94-539e26f2174f",
   "metadata": {},
   "outputs": [],
   "source": [
    "display_plane(pcd_crop, ind)"
   ]
  },
  {
   "cell_type": "markdown",
   "id": "4bdf6539-935a-4403-95fb-ec35890079f7",
   "metadata": {},
   "source": [
    "## Estimating the surface area of the flat terrain"
   ]
  },
  {
   "cell_type": "code",
   "execution_count": null,
   "id": "6fb42719-72a9-4fac-8e54-f7259db3ca42",
   "metadata": {},
   "outputs": [],
   "source": [
    "pcd_flat = pcd_crop.select_by_index(ind)\n",
    "pcd_flat.paint_uniform_color(sns.color_palette()[0])\n",
    "obb = pcd_flat.get_oriented_bounding_box()\n",
    "obb.color = sns.color_palette()[1]"
   ]
  },
  {
   "cell_type": "code",
   "execution_count": null,
   "id": "d11e5593-ca65-474a-83ce-539c20684f9e",
   "metadata": {},
   "outputs": [],
   "source": [
    "o3d.visualization.draw_geometries([pcd_flat, obb])"
   ]
  },
  {
   "cell_type": "code",
   "execution_count": null,
   "id": "37e1d345-7e53-45a2-9a8d-fde1825368c9",
   "metadata": {},
   "outputs": [],
   "source": [
    "# the surface area is approximated without taking accounting for the elevation\n",
    "# of the flat terrain\n",
    "surface_area = obb.extent[0] * obb.extent[1]\n",
    "surface_area"
   ]
  },
  {
   "cell_type": "code",
   "execution_count": null,
   "id": "68664838-a3e4-4093-ad9e-4363d374e1d1",
   "metadata": {},
   "outputs": [],
   "source": []
  }
 ],
 "metadata": {
  "kernelspec": {
   "display_name": "Python 3 (ipykernel)",
   "language": "python",
   "name": "python3"
  },
  "language_info": {
   "codemirror_mode": {
    "name": "ipython",
    "version": 3
   },
   "file_extension": ".py",
   "mimetype": "text/x-python",
   "name": "python",
   "nbconvert_exporter": "python",
   "pygments_lexer": "ipython3",
   "version": "3.9.18"
  }
 },
 "nbformat": 4,
 "nbformat_minor": 5
}
